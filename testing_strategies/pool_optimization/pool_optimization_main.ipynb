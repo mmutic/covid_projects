{
 "cells": [
  {
   "cell_type": "markdown",
   "metadata": {},
   "source": [
    "# Pool Optimization Main Notebook #\n",
    "Analysis of a covid testing strategy which pools samples together and returns a positive test if any of sample population is positive."
   ]
  },
  {
   "cell_type": "markdown",
   "metadata": {},
   "source": [
    "# Goals #\n",
    "* Deepen [Hanel & Thurner's](https://arxiv.org/pdf/2003.09944v1.pdf) analysis to account for high positive rates in a hospital setting (time-sensitive)\n",
    "* Design and optimize a multi-stage pooling strategy to maximize diagnoses with minimum tests used\n",
    "    * [De Marco et. al.](https://fct2017.labri.fr/Slides/Monday/Algorithms/FCT-ThresholdGroupTeting.pdf) contains a ton of different paradigms with big O complexity assessments"
   ]
  },
  {
   "cell_type": "markdown",
   "metadata": {},
   "source": [
    "# Todo & Assignments #\n",
    "Add your name if you can commit to the todo item, put an x inside of the brackets when you finish to create a check mark\n",
    "* [ ] Deepening [Hanel & Thurner](https://arxiv.org/pdf/2003.09944v1.pdf) \n",
    "    * [ ] Perform sensitivity analysis on all assumed parameters\n",
    "    * [ ] Consider simple alternatives to the proposed \"test everyone in a positive group\" paradigm\n",
    "    * [ ] Compare tests needed to number that the US/world has available\n",
    "* [ ] Prune [De Marco et. al.'s](https://fct2017.labri.fr/Slides/Monday/Algorithms/FCT-ThresholdGroupTeting.pdf) ideas to a small list we can test\n",
    "    * [ ] (Tent.) Come up with some cool new pooling paradigms?\n",
    "    * [ ] Consider pooling that is based on other clinically relevant criteria (rather than random segementation at each step) e.g. age ([Davies et. al.](https://www.medrxiv.org/content/10.1101/2020.03.24.20043018v1.full.pdf))\n",
    "* [ ] (Tent.) Analyze opportunity cost of using PPE to test rather than treat?\n",
    "* [ ] (Tent.) Better understand geographical distribution of tests needed as infection spreads? "
   ]
  },
  {
   "cell_type": "markdown",
   "metadata": {},
   "source": [
    "# Useful Papers #\n",
    "* Initial analysis of pool sizing based on low infection level - [Hanel & Thurner](https://arxiv.org/pdf/2003.09944v1.pdf)\n",
    "* Presentation on mathematical basis of group testing - [De Marco et. al.](https://fct2017.labri.fr/Slides/Monday/Algorithms/FCT-ThresholdGroupTeting.pdf)\n",
    "* Current biological limits of pooled testing - [Yelin et. al.](https://www.medrxiv.org/content/10.1101/2020.03.26.20039438v1)\n",
    "* Age-dependent effects could help more effectively pool - [Davies et. al.](https://www.medrxiv.org/content/10.1101/2020.03.24.20043018v1.full.pdf)"
   ]
  }
 ],
 "metadata": {
  "kernelspec": {
   "display_name": "Python 3",
   "language": "python",
   "name": "python3"
  },
  "language_info": {
   "codemirror_mode": {
    "name": "ipython",
    "version": 3
   },
   "file_extension": ".py",
   "mimetype": "text/x-python",
   "name": "python",
   "nbconvert_exporter": "python",
   "pygments_lexer": "ipython3",
   "version": "3.7.4"
  }
 },
 "nbformat": 4,
 "nbformat_minor": 2
}
